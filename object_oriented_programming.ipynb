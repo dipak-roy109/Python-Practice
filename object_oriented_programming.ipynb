{
 "cells": [
  {
   "cell_type": "code",
   "execution_count": 2,
   "metadata": {},
   "outputs": [
    {
     "name": "stdout",
     "output_type": "stream",
     "text": [
      "10\n",
      "888\n"
     ]
    }
   ],
   "source": [
    "class test:\n",
    "    a = 10\n",
    "    def m1(self):\n",
    "        self.a = 888\n",
    "\n",
    "t1 = test()\n",
    "t1.m1()\n",
    "print(test.a)\n",
    "print(t1.a)"
   ]
  },
  {
   "cell_type": "code",
   "execution_count": 4,
   "metadata": {},
   "outputs": [
    {
     "name": "stdout",
     "output_type": "stream",
     "text": [
      "888\n",
      "888\n"
     ]
    }
   ],
   "source": [
    "class test:\n",
    "    a = 10\n",
    "    def m1(self):\n",
    "        test.a = 888\n",
    "\n",
    "t1 = test()\n",
    "t1.m1()\n",
    "print(test.a)\n",
    "print(t1.a)"
   ]
  },
  {
   "cell_type": "code",
   "execution_count": 6,
   "metadata": {},
   "outputs": [
    {
     "name": "stdout",
     "output_type": "stream",
     "text": [
      "t1 10 20\n",
      "t2 10 20\n",
      "t1 888 20\n",
      "t2 10 20\n"
     ]
    }
   ],
   "source": [
    "class test:\n",
    "    a = 10\n",
    "    def __init__(self):\n",
    "        self.b = 20\n",
    "\n",
    "t1 = test()\n",
    "t2 = test()\n",
    "print('t1', t1.a, t1.b)\n",
    "print('t2', t2.a, t2.b)\n",
    "t1.a = 888\n",
    "t1.b = 999\n",
    "print('t1', t1.a, t2.b)\n",
    "print('t2', t2.a, t2.b)"
   ]
  },
  {
   "cell_type": "code",
   "execution_count": 1,
   "metadata": {},
   "outputs": [
    {
     "name": "stdout",
     "output_type": "stream",
     "text": [
      "t1: 10 20\n",
      "t2: 10 20\n",
      "t1: 888 20\n",
      "t2: 888 20\n",
      "test: 888 999\n"
     ]
    }
   ],
   "source": [
    "class test:\n",
    "    a = 10\n",
    "    def __init__(self):\n",
    "        self.b = 20\n",
    "\n",
    "t1 = test()\n",
    "t2 = test()\n",
    "print('t1:', t1.a, t1.b)\n",
    "print('t2:', t2.a, t2.b)\n",
    "test.a = 888\n",
    "test.b = 999\n",
    "print('t1:', t1.a, t1.b)\n",
    "print('t2:', t2.a, t2.b)\n",
    "print('test:', test.a, test.b)"
   ]
  },
  {
   "cell_type": "code",
   "execution_count": 5,
   "metadata": {},
   "outputs": [
    {
     "name": "stdout",
     "output_type": "stream",
     "text": [
      "{'__module__': '__main__', 'm1': <classmethod object at 0x0000027E67B7C250>, '__dict__': <attribute '__dict__' of 'test' objects>, '__weakref__': <attribute '__weakref__' of 'test' objects>, '__doc__': None}\n"
     ]
    }
   ],
   "source": [
    "class test:\n",
    "    a = 10\n",
    "    b = 20\n",
    "    @classmethod\n",
    "    def m1(cls):\n",
    "        del cls.a\n",
    "        del test.b\n",
    "\n",
    "test.m1()\n",
    "print(test. __dict__)\n"
   ]
  },
  {
   "cell_type": "code",
   "execution_count": 18,
   "metadata": {},
   "outputs": [
    {
     "name": "stdout",
     "output_type": "stream",
     "text": [
      "{'__module__': '__main__', '__init__': <function test.__init__ at 0x0000027E681689D0>, 'm1': <function test.m1 at 0x0000027E681683A0>, 'm2': <classmethod object at 0x0000027E687C6B50>, 'm3': <staticmethod object at 0x0000027E687C68E0>, '__dict__': <attribute '__dict__' of 'test' objects>, '__weakref__': <attribute '__weakref__' of 'test' objects>, '__doc__': None}\n"
     ]
    }
   ],
   "source": [
    "class test:\n",
    "    a = 10\n",
    "    def __init__(self):\n",
    "        test.b = 20\n",
    "        del test.a\n",
    "    def m1(self):\n",
    "        test.c = 30\n",
    "        del test.b\n",
    "    @classmethod\n",
    "    def m2(cls):\n",
    "        test.d = 40\n",
    "        del test.c\n",
    "    @staticmethod\n",
    "    def m3():\n",
    "        test.e = 50\n",
    "        del test.d\n",
    "\n",
    "t = test()\n",
    "t.m1()\n",
    "t.m2()\n",
    "t.m3()\n",
    "del test.e\n",
    "print(test.__dict__)"
   ]
  },
  {
   "cell_type": "code",
   "execution_count": 2,
   "metadata": {},
   "outputs": [
    {
     "ename": "AttributeError",
     "evalue": "a",
     "output_type": "error",
     "traceback": [
      "\u001b[1;31m---------------------------------------------------------------------------\u001b[0m",
      "\u001b[1;31mAttributeError\u001b[0m                            Traceback (most recent call last)",
      "\u001b[1;32mC:\\Users\\ADMINI~1\\AppData\\Local\\Temp/ipykernel_1172/1179021815.py\u001b[0m in \u001b[0;36m<module>\u001b[1;34m\u001b[0m\n\u001b[0;32m      3\u001b[0m \u001b[1;33m\u001b[0m\u001b[0m\n\u001b[0;32m      4\u001b[0m \u001b[0mt\u001b[0m \u001b[1;33m=\u001b[0m \u001b[0mtest\u001b[0m\u001b[1;33m(\u001b[0m\u001b[1;33m)\u001b[0m\u001b[1;33m\u001b[0m\u001b[1;33m\u001b[0m\u001b[0m\n\u001b[1;32m----> 5\u001b[1;33m \u001b[1;32mdel\u001b[0m \u001b[0mt\u001b[0m\u001b[1;33m.\u001b[0m\u001b[0ma\u001b[0m\u001b[1;33m\u001b[0m\u001b[1;33m\u001b[0m\u001b[0m\n\u001b[0m\u001b[0;32m      6\u001b[0m \u001b[0mprint\u001b[0m\u001b[1;33m(\u001b[0m\u001b[0mt\u001b[0m\u001b[1;33m.\u001b[0m\u001b[0ma\u001b[0m\u001b[1;33m)\u001b[0m\u001b[1;33m\u001b[0m\u001b[1;33m\u001b[0m\u001b[0m\n",
      "\u001b[1;31mAttributeError\u001b[0m: a"
     ]
    }
   ],
   "source": [
    "class test:\n",
    "    a = 10\n",
    "\n",
    "t = test()\n",
    "del t.a\n",
    "print(t.a)"
   ]
  },
  {
   "cell_type": "code",
   "execution_count": 3,
   "metadata": {},
   "outputs": [
    {
     "name": "stdout",
     "output_type": "stream",
     "text": [
      "Hi Dipak Roy\n",
      "You got first grade: 100\n",
      "Hi Imran Miah\n",
      "You got first grade: 99\n",
      "Hi Shattajit Roy\n",
      "You got first grade: 98\n"
     ]
    }
   ],
   "source": [
    "class student:\n",
    "    def __init__(self,name,marks):\n",
    "        self.name  = name\n",
    "        self.marks = marks\n",
    "    def display(self):\n",
    "        print('Hi', self.name)\n",
    "    def grade(self):\n",
    "        if self.marks >= 80:\n",
    "            print('You got first grade:', self.marks)\n",
    "        elif self.marks >= 60:\n",
    "            print('Your got second grade:', self.marks)\n",
    "        elif self.marks >= 35:\n",
    "            print('You got third grade')\n",
    "        else:\n",
    "            print('you are failed')\n",
    "\n",
    "n = int(input('Enter Number of Student:'))\n",
    "\n",
    "for i in range (n):\n",
    "    name = input('Enter Student Name:')\n",
    "    marks = int(input('Enter Your Marks:'))\n",
    "    s = student(name,marks)\n",
    "    s.display()\n",
    "    s.grade()"
   ]
  },
  {
   "cell_type": "code",
   "execution_count": 9,
   "metadata": {},
   "outputs": [
    {
     "name": "stdout",
     "output_type": "stream",
     "text": [
      "Employee Number  : 101\n",
      "Employee Name    : Dipak Roy\n",
      "Employee Salary  : 110000\n"
     ]
    }
   ],
   "source": [
    "class Employee:\n",
    "    def __init__(self,e_no,e_name,e_sal):\n",
    "        self.e_no   = e_no\n",
    "        self.e_name = e_name\n",
    "        self.e_sal  = e_sal\n",
    "    def display(self):\n",
    "        print('Employee Number  :',   self.e_no)\n",
    "        print('Employee Name    :',     self.e_name)\n",
    "        print('Employee Salary  :',   self.e_sal)\n",
    "\n",
    "class Manager:\n",
    "    def update_emp_sal(emp):\n",
    "        emp.e_sal = emp.e_sal + 10000\n",
    "        emp.display()\n",
    "\n",
    "emp = Employee(101, 'Dipak Roy', 100000)\n",
    "Manager.update_emp_sal(emp)"
   ]
  },
  {
   "cell_type": "code",
   "execution_count": 1,
   "metadata": {},
   "outputs": [
    {
     "name": "stdout",
     "output_type": "stream",
     "text": [
      "Person Object Creaton....\n",
      "DOB Object Creation....\n",
      "Name Dipak Roy\n",
      "DOB = 15/12/1996\n"
     ]
    }
   ],
   "source": [
    "class person:\n",
    "    def __init__(self,name,dd,mm,yyyy):\n",
    "        print('Person Object Creaton....')\n",
    "        self.name = name\n",
    "        self.dob = self.DOB(dd,mm,yyyy)\n",
    "    def info(self):\n",
    "        print('Name', self.name)\n",
    "        self.dob.display()\n",
    "\n",
    "    class DOB:\n",
    "        def __init__(self,dd,mm,yyyy):\n",
    "            print('DOB Object Creation....')\n",
    "            self.dd = dd\n",
    "            self.mm = mm\n",
    "            self.yyyy = yyyy\n",
    "        def display(self):\n",
    "            print('DOB = {}/{}/{}'.format(self.dd, self.mm, self.yyyy))\n",
    "\n",
    "\n",
    "p = person('Dipak Roy',15,12,1996)\n",
    "p.info()\n"
   ]
  },
  {
   "cell_type": "code",
   "execution_count": 60,
   "metadata": {},
   "outputs": [
    {
     "name": "stdout",
     "output_type": "stream",
     "text": [
      "Object initialization Activites\n",
      "Fulfilling last wish and performing object clean up Activities\n",
      "End Of Application <__main__.test object at 0x000001FD4D7937F0>\n"
     ]
    }
   ],
   "source": [
    "# Destructor Introduction and Demo Program:\n",
    "import time\n",
    "class test:\n",
    "    def __init__(self):\n",
    "        print('Object initialization Activites')\n",
    "    def __del__(self):\n",
    "        print('Fulfilling last wish and performing object clean up Activities')\n",
    "\n",
    "t1 = test()\n",
    "print('End Of Application')\n",
    "\n",
    "\n"
   ]
  }
 ],
 "metadata": {
  "interpreter": {
   "hash": "11f1dc213e07634baa4c5c321dec03c05dafae643c50f20e6d1a492290c05dc2"
  },
  "kernelspec": {
   "display_name": "Python 3.9.7 64-bit",
   "language": "python",
   "name": "python3"
  },
  "language_info": {
   "codemirror_mode": {
    "name": "ipython",
    "version": 3
   },
   "file_extension": ".py",
   "mimetype": "text/x-python",
   "name": "python",
   "nbconvert_exporter": "python",
   "pygments_lexer": "ipython3",
   "version": "3.9.7"
  },
  "orig_nbformat": 4
 },
 "nbformat": 4,
 "nbformat_minor": 2
}
